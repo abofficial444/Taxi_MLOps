{
 "cells": [
  {
   "cell_type": "markdown",
   "id": "14fe0378-0f39-41ed-98e6-f6ac8042f89a",
   "metadata": {},
   "source": [
    "\n",
    "<p style= \"background-color:black;font-family:Georgia;color:gold;font-size:110%;text-align:center;border-radius:10px 10px;border-style:solid;border-width:3px;border-color:gold;\"><b>Goal - The goal is to train a simple model for predicting the duration of a ride</b></p>"
   ]
  },
  {
   "cell_type": "code",
   "execution_count": 1,
   "id": "99ca3e76-a39a-487b-afc7-76f0c75923ab",
   "metadata": {},
   "outputs": [
    {
     "name": "stdout",
     "output_type": "stream",
     "text": [
      "Python 3.9.7\n"
     ]
    }
   ],
   "source": [
    "!python -V"
   ]
  },
  {
   "cell_type": "code",
   "execution_count": 2,
   "id": "e708bbaa-c62f-492f-9c2a-159514e295f6",
   "metadata": {},
   "outputs": [],
   "source": [
    "import numpy as np\n",
    "import pandas as pd\n",
    "import seaborn as sns\n",
    "import matplotlib.pyplot as plt\n",
    "from sklearn.feature_extraction import DictVectorizer\n",
    "from sklearn.linear_model import LinearRegression\n",
    "from sklearn.linear_model import Lasso\n",
    "from sklearn.linear_model import Ridge\n",
    "from sklearn.metrics import mean_squared_error"
   ]
  },
  {
   "cell_type": "markdown",
   "id": "a6063c39-0cb3-46c8-a825-86f0360ca2a2",
   "metadata": {},
   "source": [
    "<p style= \"background-color:blue;font-family:Georgia;color:#FFFFFF;font-size:110%;text-align:center;border-radius:10px 10px;border-style:solid;border-width:3px;border-color:white;\"><b> Q1: Read the data for January. How many records are there?</b></p>"
   ]
  },
  {
   "cell_type": "code",
   "execution_count": 3,
   "id": "26dbdc4e-caab-4671-9612-b62f20fbd7be",
   "metadata": {},
   "outputs": [],
   "source": [
    "df = pd.read_parquet('fhv_tripdata_2021-01.parquet')"
   ]
  },
  {
   "cell_type": "code",
   "execution_count": 4,
   "id": "04916db8-fc2e-45ec-80e9-83875a80ee17",
   "metadata": {},
   "outputs": [
    {
     "name": "stdout",
     "output_type": "stream",
     "text": [
      "there are 1154112 records\n"
     ]
    }
   ],
   "source": [
    "print('there are',df.shape[0], 'records')"
   ]
  },
  {
   "cell_type": "markdown",
   "id": "48d64807-34da-46a3-8f9b-c458fe4c3c0e",
   "metadata": {},
   "source": [
    "\n",
    "\n",
    "<p style= \"background-color:blue;font-family:Georgia;color:#FFFFFF;font-size:110%;text-align:center;border-radius:10px 10px;border-style:solid;border-width:3px;border-color:white;\"><b> Q2. Computing duration\n",
    "Now let's compute the duration variable. It should contain the duration of a ride in minutes.<br>What's the average trip duration in January?\n",
    "\n",
    "What's the average trip duration in January?</b></p>"
   ]
  },
  {
   "cell_type": "code",
   "execution_count": 5,
   "id": "b829a323-7ec1-45a9-8ec1-c9d78e2371b6",
   "metadata": {},
   "outputs": [
    {
     "data": {
      "text/html": [
       "<div>\n",
       "<style scoped>\n",
       "    .dataframe tbody tr th:only-of-type {\n",
       "        vertical-align: middle;\n",
       "    }\n",
       "\n",
       "    .dataframe tbody tr th {\n",
       "        vertical-align: top;\n",
       "    }\n",
       "\n",
       "    .dataframe thead th {\n",
       "        text-align: right;\n",
       "    }\n",
       "</style>\n",
       "<table border=\"1\" class=\"dataframe\">\n",
       "  <thead>\n",
       "    <tr style=\"text-align: right;\">\n",
       "      <th></th>\n",
       "      <th>dispatching_base_num</th>\n",
       "      <th>pickup_datetime</th>\n",
       "      <th>dropOff_datetime</th>\n",
       "      <th>PUlocationID</th>\n",
       "      <th>DOlocationID</th>\n",
       "      <th>SR_Flag</th>\n",
       "      <th>Affiliated_base_number</th>\n",
       "    </tr>\n",
       "  </thead>\n",
       "  <tbody>\n",
       "    <tr>\n",
       "      <th>0</th>\n",
       "      <td>B00009</td>\n",
       "      <td>2021-01-01 00:27:00</td>\n",
       "      <td>2021-01-01 00:44:00</td>\n",
       "      <td>NaN</td>\n",
       "      <td>NaN</td>\n",
       "      <td>None</td>\n",
       "      <td>B00009</td>\n",
       "    </tr>\n",
       "    <tr>\n",
       "      <th>1</th>\n",
       "      <td>B00009</td>\n",
       "      <td>2021-01-01 00:50:00</td>\n",
       "      <td>2021-01-01 01:07:00</td>\n",
       "      <td>NaN</td>\n",
       "      <td>NaN</td>\n",
       "      <td>None</td>\n",
       "      <td>B00009</td>\n",
       "    </tr>\n",
       "    <tr>\n",
       "      <th>2</th>\n",
       "      <td>B00013</td>\n",
       "      <td>2021-01-01 00:01:00</td>\n",
       "      <td>2021-01-01 01:51:00</td>\n",
       "      <td>NaN</td>\n",
       "      <td>NaN</td>\n",
       "      <td>None</td>\n",
       "      <td>B00013</td>\n",
       "    </tr>\n",
       "    <tr>\n",
       "      <th>3</th>\n",
       "      <td>B00037</td>\n",
       "      <td>2021-01-01 00:13:09</td>\n",
       "      <td>2021-01-01 00:21:26</td>\n",
       "      <td>NaN</td>\n",
       "      <td>72.0</td>\n",
       "      <td>None</td>\n",
       "      <td>B00037</td>\n",
       "    </tr>\n",
       "    <tr>\n",
       "      <th>4</th>\n",
       "      <td>B00037</td>\n",
       "      <td>2021-01-01 00:38:31</td>\n",
       "      <td>2021-01-01 00:53:44</td>\n",
       "      <td>NaN</td>\n",
       "      <td>61.0</td>\n",
       "      <td>None</td>\n",
       "      <td>B00037</td>\n",
       "    </tr>\n",
       "  </tbody>\n",
       "</table>\n",
       "</div>"
      ],
      "text/plain": [
       "  dispatching_base_num     pickup_datetime    dropOff_datetime  PUlocationID  \\\n",
       "0               B00009 2021-01-01 00:27:00 2021-01-01 00:44:00           NaN   \n",
       "1               B00009 2021-01-01 00:50:00 2021-01-01 01:07:00           NaN   \n",
       "2               B00013 2021-01-01 00:01:00 2021-01-01 01:51:00           NaN   \n",
       "3               B00037 2021-01-01 00:13:09 2021-01-01 00:21:26           NaN   \n",
       "4               B00037 2021-01-01 00:38:31 2021-01-01 00:53:44           NaN   \n",
       "\n",
       "   DOlocationID SR_Flag Affiliated_base_number  \n",
       "0           NaN    None                 B00009  \n",
       "1           NaN    None                 B00009  \n",
       "2           NaN    None                 B00013  \n",
       "3          72.0    None                 B00037  \n",
       "4          61.0    None                 B00037  "
      ]
     },
     "execution_count": 5,
     "metadata": {},
     "output_type": "execute_result"
    }
   ],
   "source": [
    "df.head()"
   ]
  },
  {
   "cell_type": "code",
   "execution_count": 6,
   "id": "0001b7d8-aef3-41ba-ae0b-27661168a4b8",
   "metadata": {},
   "outputs": [],
   "source": [
    "df['duration'] = df.dropOff_datetime - df.pickup_datetime\n",
    "df.duration = df.duration.apply(lambda td: td.total_seconds() / 60)"
   ]
  },
  {
   "cell_type": "code",
   "execution_count": 7,
   "id": "1decd1a1-d350-412a-a141-734a3179c608",
   "metadata": {},
   "outputs": [
    {
     "name": "stdout",
     "output_type": "stream",
     "text": [
      "The average trip duration in January is 19.17 mins\n"
     ]
    }
   ],
   "source": [
    "print('The average trip duration in January is', round(df['duration'].mean(),2), 'mins')"
   ]
  },
  {
   "cell_type": "markdown",
   "id": "eed4b170-ceab-41d8-9cac-3fe389e610a9",
   "metadata": {},
   "source": [
    "# Data preparation"
   ]
  },
  {
   "cell_type": "raw",
   "id": "afa73fc0-5825-4e0e-bae7-6239a5d4afa0",
   "metadata": {},
   "source": [
    "Check the distribution of the duration variable. There are some outliers.\n",
    "Let's remove them and keep only the records where the duration was between 1 and 60 minutes (inclusive).\n",
    "How many records did you drop?"
   ]
  },
  {
   "cell_type": "code",
   "execution_count": 8,
   "id": "677c7008-2262-4675-8498-9dabfc048aa3",
   "metadata": {},
   "outputs": [
    {
     "name": "stderr",
     "output_type": "stream",
     "text": [
      "/Users/ahmedadegunle/opt/anaconda3/lib/python3.9/site-packages/seaborn/distributions.py:2619: FutureWarning: `distplot` is a deprecated function and will be removed in a future version. Please adapt your code to use either `displot` (a figure-level function with similar flexibility) or `histplot` (an axes-level function for histograms).\n",
      "  warnings.warn(msg, FutureWarning)\n"
     ]
    },
    {
     "data": {
      "text/plain": [
       "<AxesSubplot:xlabel='duration', ylabel='Density'>"
      ]
     },
     "execution_count": 8,
     "metadata": {},
     "output_type": "execute_result"
    },
    {
     "data": {
      "image/png": "[encoded data removed]",
      "text/plain": [
       "<Figure size 792x432 with 1 Axes>"
      ]
     },
     "metadata": {
      "needs_background": "light"
     },
     "output_type": "display_data"
    }
   ],
   "source": [
    "fig, ax = plt.subplots(figsize=(11,6))\n",
    "sns.distplot(df['duration'])"
   ]
  },
  {
   "cell_type": "markdown",
   "id": "ab64f83d-ffbc-43f3-9fe3-b7001a8f6281",
   "metadata": {},
   "source": [
    "## Comment: Duration is rightly skewed"
   ]
  },
  {
   "cell_type": "code",
   "execution_count": 9,
   "id": "34b8d320-d06b-4ee8-accb-8c38dd7b151e",
   "metadata": {},
   "outputs": [],
   "source": [
    "new_df = df[(df.duration >= 1) & (df.duration <= 60)]"
   ]
  },
  {
   "cell_type": "code",
   "execution_count": 10,
   "id": "3a86b8f2-98c5-4ae8-a5c9-5deeeb514b81",
   "metadata": {},
   "outputs": [
    {
     "name": "stdout",
     "output_type": "stream",
     "text": [
      "44286 records were dropped\n"
     ]
    }
   ],
   "source": [
    "print(np.abs(new_df.shape[0] - df.shape[0]), 'records were dropped')"
   ]
  },
  {
   "cell_type": "markdown",
   "id": "7bc7ebba-09d7-4c55-8e3c-d7ab97dddfd0",
   "metadata": {},
   "source": [
    "\n",
    "<p style= \"background-color:blue;font-family:Georgia;color:#FFFFFF;font-size:110%;text-align:center;border-radius:10px 10px;border-style:solid;border-width:3px;border-color:white;\"><b> Q3. Missing values\n",
    "The features we'll use for our model are the pickup and dropoff location IDs.<br>But they have a lot of missing values there. Let's replace them with \"-1\" <br>\n",
    "What's the fractions of missing values for the pickup location ID? (Or the fraction of \"-1\"s after you filled the NAs)</b></p>\n"
   ]
  },
  {
   "cell_type": "code",
   "execution_count": 11,
   "id": "e0bb0eae-a127-4699-988e-68e8286e7e08",
   "metadata": {},
   "outputs": [
    {
     "name": "stdout",
     "output_type": "stream",
     "text": [
      "83 % is the fractions of missing values for the pickup location ID\n"
     ]
    }
   ],
   "source": [
    "print(round(df['PUlocationID'].isnull().sum() * 100 / len(df['PUlocationID'])),'% is the fractions of missing values for the pickup location ID')"
   ]
  },
  {
   "cell_type": "code",
   "execution_count": 12,
   "id": "a15716a5-6ea0-4c0d-8d9c-17d40271adb0",
   "metadata": {},
   "outputs": [
    {
     "name": "stderr",
     "output_type": "stream",
     "text": [
      "/Users/ahmedadegunle/opt/anaconda3/lib/python3.9/site-packages/pandas/core/frame.py:5176: SettingWithCopyWarning: \n",
      "A value is trying to be set on a copy of a slice from a DataFrame\n",
      "\n",
      "See the caveats in the documentation: https://pandas.pydata.org/pandas-docs/stable/user_guide/indexing.html#returning-a-view-versus-a-copy\n",
      "  return super().fillna(\n"
     ]
    }
   ],
   "source": [
    "new_df.fillna(-1, inplace = True)"
   ]
  },
  {
   "cell_type": "code",
   "execution_count": 13,
   "id": "9c735bbf-abb0-42dd-8917-ce6a60bf21c4",
   "metadata": {},
   "outputs": [
    {
     "data": {
      "text/plain": [
       "Index(['dispatching_base_num', 'pickup_datetime', 'dropOff_datetime',\n",
       "       'PUlocationID', 'DOlocationID', 'SR_Flag', 'Affiliated_base_number',\n",
       "       'duration'],\n",
       "      dtype='object')"
      ]
     },
     "execution_count": 13,
     "metadata": {},
     "output_type": "execute_result"
    }
   ],
   "source": [
    "new_df.columns"
   ]
  },
  {
   "cell_type": "markdown",
   "id": "fe42ffa7-cd32-431b-8621-38da07ef12f2",
   "metadata": {},
   "source": [
    "\n",
    "<p style= \"background-color:blue;font-family:Georgia;color:#FFFFFF;font-size:110%;text-align:center;border-radius:10px 10px;border-style:solid;border-width:3px;border-color:white;\"><b> Q4. One-hot encoding\n",
    "Let's apply one-hot encoding to the pickup and dropoff location IDs. We'll use only these two features for our model..<br>Turn the dataframe into a list of dictionaries\n",
    "Fit a dictionary vectorizer<br>\n",
    "Get a feature matrix from it\n",
    "What's the dimensionality of this matrix? (The number of columns)</b></p>"
   ]
  },
  {
   "cell_type": "code",
   "execution_count": 14,
   "id": "632b4f39-a058-40a5-933c-cccd0a19df7a",
   "metadata": {},
   "outputs": [
    {
     "name": "stderr",
     "output_type": "stream",
     "text": [
      "/Users/ahmedadegunle/opt/anaconda3/lib/python3.9/site-packages/pandas/core/frame.py:3641: SettingWithCopyWarning: \n",
      "A value is trying to be set on a copy of a slice from a DataFrame.\n",
      "Try using .loc[row_indexer,col_indexer] = value instead\n",
      "\n",
      "See the caveats in the documentation: https://pandas.pydata.org/pandas-docs/stable/user_guide/indexing.html#returning-a-view-versus-a-copy\n",
      "  self[k1] = value[k2]\n"
     ]
    }
   ],
   "source": [
    "categorical = ['PUlocationID', 'DOlocationID']\n",
    "new_df[categorical] = new_df[categorical].astype(str)\n",
    "\n",
    "train_dicts = new_df[categorical].to_dict(orient='records')\n",
    "\n",
    "dv = DictVectorizer()\n",
    "X_train = dv.fit_transform(train_dicts)"
   ]
  },
  {
   "cell_type": "code",
   "execution_count": 15,
   "id": "e7b9ddb0-b42d-46b3-97fa-ea92f63e2006",
   "metadata": {},
   "outputs": [
    {
     "name": "stdout",
     "output_type": "stream",
     "text": [
      "The dimensionality of the matrix(no of columns) is 525\n"
     ]
    }
   ],
   "source": [
    "print('The dimensionality of the matrix(no of columns) is', X_train.shape[1])"
   ]
  },
  {
   "cell_type": "markdown",
   "id": "baf5777f-3fac-42d1-9503-5807a37d94a0",
   "metadata": {},
   "source": [
    "<p style= \"background-color:blue;font-family:Georgia;color:#FFFFFF;font-size:110%;text-align:center;border-radius:10px 10px;border-style:solid;border-width:3px;border-color:white;\"><b> \n",
    "Q5. Training a model\n",
    "Now let's use the feature matrix from the previous step to train a model.\n",
    "<br>Train a plain linear regression model with default parameters<br>\n",
    "Calculate the RMSE of the model on the training data</b></p>"
   ]
  },
  {
   "cell_type": "code",
   "execution_count": 16,
   "id": "06e9d327-ddfd-424c-ad1c-9f9419464cc7",
   "metadata": {},
   "outputs": [
    {
     "name": "stdout",
     "output_type": "stream",
     "text": [
      "The RMSE of the model  11.0\n"
     ]
    }
   ],
   "source": [
    "target = 'duration'\n",
    "y_train = new_df[target].values\n",
    "\n",
    "lr = LinearRegression()\n",
    "lr.fit(X_train, y_train)\n",
    "\n",
    "y_pred = lr.predict(X_train)\n",
    "\n",
    "print('The RMSE of the model ',np.round(mean_squared_error(y_train, y_pred, squared=False)))"
   ]
  },
  {
   "cell_type": "markdown",
   "id": "01e31395-e3b8-4477-97be-ed7881fda2e0",
   "metadata": {},
   "source": [
    "<p style= \"background-color:blue;font-family:Georgia;color:#FFFFFF;font-size:110%;text-align:center;border-radius:10px 10px;border-style:solid;border-width:3px;border-color:white;\"><b> \n",
    "Q5.  Evaluating the model\n",
    "Now lets apply this model to the validation dataset (Feb 2021).\n",
    "<br>Whats the RMSE on validation?</b></p>"
   ]
  },
  {
   "cell_type": "code",
   "execution_count": 17,
   "id": "7b98c9ba-6708-4e3e-83a5-8a030068d7f3",
   "metadata": {},
   "outputs": [],
   "source": [
    "def read_dataframe(filename):\n",
    "    if filename.endswith('.csv'):\n",
    "        df = pd.read_csv(filename)\n",
    "\n",
    "        df.dropOff_datetime = pd.to_datetime(df.dropOff_datetime)\n",
    "        df.pickup_datetime = pd.to_datetime(df.pickup_datetime)\n",
    "    elif filename.endswith('.parquet'):\n",
    "        df = pd.read_parquet(filename)\n",
    "\n",
    "    df['duration'] = df.dropOff_datetime - df.pickup_datetime\n",
    "    df.duration = df.duration.apply(lambda td: td.total_seconds() / 60)\n",
    "\n",
    "    df = df[(df.duration >= 1) & (df.duration <= 60)]\n",
    "\n",
    "    categorical = ['PUlocationID', 'DOlocationID']\n",
    "    df[categorical] = df[categorical].astype(str)\n",
    "    \n",
    "    return df"
   ]
  },
  {
   "cell_type": "code",
   "execution_count": 18,
   "id": "0c49072c-0f18-438d-9aaf-a28484ce97b7",
   "metadata": {},
   "outputs": [],
   "source": [
    "df_train = read_dataframe('./fhv_tripdata_2021-01.parquet')\n",
    "df_val = read_dataframe('./fhv_tripdata_2021-02.parquet')"
   ]
  },
  {
   "cell_type": "code",
   "execution_count": 19,
   "id": "33227efd-ec03-450f-aea4-2261e531c184",
   "metadata": {},
   "outputs": [],
   "source": [
    "categorical = ['PUlocationID', 'DOlocationID']\n",
    "df_train[categorical] = df_train[categorical].astype(str)\n",
    "\n",
    "categorical = ['PUlocationID', 'DOlocationID']\n",
    "df_val[categorical] = df_val[categorical].astype(str)\n",
    "\n",
    "dv = DictVectorizer()\n",
    "\n",
    "train_dicts = df_train[categorical].to_dict(orient='records')\n",
    "X_train = dv.fit_transform(train_dicts)\n",
    "\n",
    "val_dicts = df_val[categorical].to_dict(orient='records')\n",
    "X_val = dv.transform(val_dicts)"
   ]
  },
  {
   "cell_type": "code",
   "execution_count": 20,
   "id": "2e05521a-25e3-4805-b714-ed06214ef543",
   "metadata": {},
   "outputs": [],
   "source": [
    "target = 'duration'\n",
    "y_train = df_train[target].values\n",
    "y_val = df_val[target].values"
   ]
  },
  {
   "cell_type": "code",
   "execution_count": 21,
   "id": "88c44f6b-043e-42c7-ba2d-bb544221def6",
   "metadata": {},
   "outputs": [
    {
     "name": "stdout",
     "output_type": "stream",
     "text": [
      "The RMSE of the Validation model 11.014283219110846\n"
     ]
    }
   ],
   "source": [
    "lr = LinearRegression()\n",
    "lr.fit(X_train, y_train)\n",
    "\n",
    "y_pred = lr.predict(X_val)\n",
    "\n",
    "print('The RMSE of the Validation model',mean_squared_error(y_val, y_pred, squared=False))"
   ]
  },
  {
   "cell_type": "code",
   "execution_count": null,
   "id": "46894405-ac2c-4486-9837-5c07b67f0dc6",
   "metadata": {},
   "outputs": [],
   "source": []
  }
 ],
 "metadata": {
  "kernelspec": {
   "display_name": "Python 3 (ipykernel)",
   "language": "python",
   "name": "python3"
  },
  "language_info": {
   "codemirror_mode": {
    "name": "ipython",
    "version": 3
   },
   "file_extension": ".py",
   "mimetype": "text/x-python",
   "name": "python",
   "nbconvert_exporter": "python",
   "pygments_lexer": "ipython3",
   "version": "3.9.7"
  }
 },
 "nbformat": 4,
 "nbformat_minor": 5
}
